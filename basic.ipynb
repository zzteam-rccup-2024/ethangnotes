{
 "cells": [
  {
   "metadata": {},
   "cell_type": "markdown",
   "source": [
    "# The Basic Introduction\n",
    "\n",
    "## Prizes\n",
    "\n",
    "| Prize | Cash      | Amount |\n",
    "| -- |-----------|--------|\n",
    "| 1st | 5000      | 3      |\n",
    "| 2nd | 3000      | 5      |\n",
    "| 3rd | 1000      | 8      |\n",
    "| Great | Souvenirs | 9 |\n",
    "\n",
    "## Evaluation Rules\n",
    "\n",
    "| Evaluation Criteria | Innovation and Creativity | Weight |\n",
    "|--------------------|----------------------------|--------|\n",
    "| Innovation and Creativity Advantages | <ol><li>Does the work address a specific social or livelihood issue, or does it create the highest new opportunity for solving that issue?</li><li>Can the work generate significant social impact and have the potential to become a disruptive product?</li><li>Does the work reflect a people-oriented value and influence people's behavior and lifestyle?</li><li>Is the work original to the team, with no similar products on the market?</li></ol> | 30 points |\n",
    "| Completeness of the Work | <ol><li>Does the work provide an effective solution to a problem, and is the solution clear and complete?</li><li>Does the prototype of the work express the intended function or service, and does it provide a good user experience?</li></ol> | 40 points |\n",
    "| Technical Feasibility | <ol><li>Can the chosen technical solution for the prototype fulfill the expected functionality?</li><li>Does the chosen technology achieve a balance in efficiency, functionality, and cost?</li></ol> | 20 points |\n",
    "| Application Prospects | Does the work have development value in its industry sector and the potential to grow in market competition within its industry? | 10 points |\n",
    "\n"
   ],
   "id": "d50928cf2dff77ea"
  },
  {
   "metadata": {
    "ExecuteTime": {
     "end_time": "2024-07-15T02:44:54.356925Z",
     "start_time": "2024-07-15T02:44:54.355678Z"
    }
   },
   "cell_type": "code",
   "source": "",
   "id": "682e5e4f25d6a0ac",
   "outputs": [],
   "execution_count": null
  },
  {
   "metadata": {},
   "cell_type": "code",
   "outputs": [],
   "execution_count": null,
   "source": "",
   "id": "d9b068a03bc96d3a"
  }
 ],
 "metadata": {
  "kernelspec": {
   "display_name": "Python 3",
   "language": "python",
   "name": "python3"
  },
  "language_info": {
   "codemirror_mode": {
    "name": "ipython",
    "version": 2
   },
   "file_extension": ".py",
   "mimetype": "text/x-python",
   "name": "python",
   "nbconvert_exporter": "python",
   "pygments_lexer": "ipython2",
   "version": "2.7.6"
  }
 },
 "nbformat": 4,
 "nbformat_minor": 5
}
