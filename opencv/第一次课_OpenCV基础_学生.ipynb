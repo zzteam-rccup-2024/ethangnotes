{
 "cells": [
  {
   "cell_type": "markdown",
   "metadata": {},
   "source": [
    "## 图像处理与机器学习\n",
    "### 1.安装 OpenCV-Python\n",
    "OpenCV-Python就是用Python包装了C++的实现，背后实际就是C++的代码在跑，运行速度非常接近原生。\n",
    "\n",
    "另外，图像是矩阵数据，OpenCV-Python原生支持Numpy，为矩阵运算、科学计算提供了极大的便利性。\n",
    "\n",
    "**安装:只需终端下的一条指令：**"
   ]
  },
  {
   "cell_type": "code",
   "metadata": {
    "ExecuteTime": {
     "end_time": "2024-07-15T07:25:32.439617Z",
     "start_time": "2024-07-15T07:25:31.457188Z"
    }
   },
   "source": [
    "!pip install opencv-python"
   ],
   "outputs": [
    {
     "name": "stdout",
     "output_type": "stream",
     "text": [
      "Requirement already satisfied: opencv-python in /opt/anaconda3/envs/training/lib/python3.11/site-packages (4.10.0.84)\r\n",
      "Requirement already satisfied: numpy>=1.21.2 in /opt/anaconda3/envs/training/lib/python3.11/site-packages (from opencv-python) (1.26.4)\r\n",
      "\r\n",
      "\u001B[1m[\u001B[0m\u001B[34;49mnotice\u001B[0m\u001B[1;39;49m]\u001B[0m\u001B[39;49m A new release of pip is available: \u001B[0m\u001B[31;49m24.1.1\u001B[0m\u001B[39;49m -> \u001B[0m\u001B[32;49m24.1.2\u001B[0m\r\n",
      "\u001B[1m[\u001B[0m\u001B[34;49mnotice\u001B[0m\u001B[1;39;49m]\u001B[0m\u001B[39;49m To update, run: \u001B[0m\u001B[32;49mpip install --upgrade pip\u001B[0m\r\n"
     ]
    }
   ],
   "execution_count": 32
  },
  {
   "cell_type": "code",
   "metadata": {
    "ExecuteTime": {
     "end_time": "2024-07-15T07:25:33.056307Z",
     "start_time": "2024-07-15T07:25:32.441175Z"
    }
   },
   "source": [
    "!pip install scikit-learn"
   ],
   "outputs": [
    {
     "name": "stdout",
     "output_type": "stream",
     "text": [
      "Requirement already satisfied: scikit-learn in /opt/anaconda3/envs/training/lib/python3.11/site-packages (1.5.0)\r\n",
      "Requirement already satisfied: numpy>=1.19.5 in /opt/anaconda3/envs/training/lib/python3.11/site-packages (from scikit-learn) (1.26.4)\r\n",
      "Requirement already satisfied: scipy>=1.6.0 in /opt/anaconda3/envs/training/lib/python3.11/site-packages (from scikit-learn) (1.13.1)\r\n",
      "Requirement already satisfied: joblib>=1.2.0 in /opt/anaconda3/envs/training/lib/python3.11/site-packages (from scikit-learn) (1.4.2)\r\n",
      "Requirement already satisfied: threadpoolctl>=3.1.0 in /opt/anaconda3/envs/training/lib/python3.11/site-packages (from scikit-learn) (3.5.0)\r\n",
      "\r\n",
      "\u001B[1m[\u001B[0m\u001B[34;49mnotice\u001B[0m\u001B[1;39;49m]\u001B[0m\u001B[39;49m A new release of pip is available: \u001B[0m\u001B[31;49m24.1.1\u001B[0m\u001B[39;49m -> \u001B[0m\u001B[32;49m24.1.2\u001B[0m\r\n",
      "\u001B[1m[\u001B[0m\u001B[34;49mnotice\u001B[0m\u001B[1;39;49m]\u001B[0m\u001B[39;49m To update, run: \u001B[0m\u001B[32;49mpip install --upgrade pip\u001B[0m\r\n"
     ]
    }
   ],
   "execution_count": 33
  },
  {
   "cell_type": "markdown",
   "metadata": {},
   "source": [
    "**装好OpenCV，输入import cv2，将cv2的包导入，查看OpenCV的版本，可以：**\n"
   ]
  },
  {
   "cell_type": "code",
   "metadata": {
    "ExecuteTime": {
     "end_time": "2024-07-15T07:25:33.060040Z",
     "start_time": "2024-07-15T07:25:33.057470Z"
    }
   },
   "source": [
    "import cv2"
   ],
   "outputs": [],
   "execution_count": 34
  },
  {
   "cell_type": "markdown",
   "metadata": {},
   "source": [
    "### 2.图像基本操作\n",
    "**读入图像**：使用***cv2.imread()***来读入一张图片：\n",
    "\n",
    "-参数1：图片的文件名（包含路径及后缀）\n",
    "\n",
    "图片放在当前文件夹下，直接写文件名就行，如'cats.jpeg'\n",
    "否则需要给出绝对路径，如'D:\\OpenCVSamples\\cats.jpeg'\n",
    "\n",
    "-参数2：读入方式，省略即采用默认值\n",
    "cv2.IMREAD_COLOR：彩色图，默认值(1)\n",
    "cv2.IMREAD_GRAYSCALE：灰度图(0)\n",
    "cv2.IMREAD_UNCHANGED：包含透明通道的彩色图(-1)\n",
    "\n",
    "**小tips：路径中不能有中文，并且没有加载成功的话是不会报错的，print(img)的结果为None，后面用到时才会报错，千万别踩坑。**"
   ]
  },
  {
   "cell_type": "code",
   "metadata": {
    "ExecuteTime": {
     "end_time": "2024-07-15T07:25:33.066701Z",
     "start_time": "2024-07-15T07:25:33.061549Z"
    }
   },
   "source": [
    "# 读入一幅小猫图像\n",
    "img = cv2.imread(\"cats.jpeg\")"
   ],
   "outputs": [],
   "execution_count": 35
  },
  {
   "cell_type": "markdown",
   "metadata": {},
   "source": [
    " - img 本身就是一个numpy的数组，通过`shape` `item` `size`可以查看宽高、具体元素值、图像大小"
   ]
  },
  {
   "cell_type": "markdown",
   "metadata": {},
   "source": [
    "图像属性获取：img.shape获取图像的形状，图片是彩色的话，返回一个包含行数（高度）、列数（宽度）和通道数的元组，灰度图只返回行数和列数："
   ]
  },
  {
   "cell_type": "code",
   "metadata": {
    "ExecuteTime": {
     "end_time": "2024-07-15T07:25:33.069068Z",
     "start_time": "2024-07-15T07:25:33.067224Z"
    }
   },
   "source": [
    "print(img.shape)\n",
    "print(img.size)\n",
    "# 形状中包括行数、列数和通道数\n",
    "height, width, channel = img.shape\n",
    "# img是灰度图的话：height, width = img.shape"
   ],
   "outputs": [
    {
     "name": "stdout",
     "output_type": "stream",
     "text": [
      "(768, 1024, 3)\n",
      "2359296\n"
     ]
    }
   ],
   "execution_count": 36
  },
  {
   "cell_type": "markdown",
   "metadata": {},
   "source": [
    "**显示图像**：使用***cv2.imshow()***显示图片，窗口会自适应图片的大小\n",
    "\n",
    "-参数1：窗口的名字\n",
    "\n",
    "-参数2：要显示的图像矩阵"
   ]
  },
  {
   "cell_type": "code",
   "metadata": {
    "ExecuteTime": {
     "end_time": "2024-07-15T07:25:34.099950Z",
     "start_time": "2024-07-15T07:25:33.069797Z"
    }
   },
   "source": [
    "#显示一幅小猫图像\n",
    "####start code\n",
    "cv2.imshow(\"color_cats\",img)\n",
    "####end code\n",
    "cv2.waitKey(1000) \n",
    "cv2.destroyAllWindows()\n"
   ],
   "outputs": [],
   "execution_count": 37
  },
  {
   "cell_type": "markdown",
   "metadata": {},
   "source": [
    "cv2.waitKey()是让程序暂停的意思，参数是等待时间（毫秒ms）。时间一到，会继续执行接下来的程序，传入0的话表示一直等待。等待期间也可以获取用户的按键输入(Ascii码)：k = cv2.waitKey(0)。"
   ]
  },
  {
   "cell_type": "markdown",
   "metadata": {},
   "source": [
    "#### 保存图像\n",
    "#### 使用cv2.imwrite()保存图片，参数1是包含后缀名的文件名，参数2是图像矩阵。"
   ]
  },
  {
   "cell_type": "code",
   "metadata": {
    "ExecuteTime": {
     "end_time": "2024-07-15T07:25:34.110339Z",
     "start_time": "2024-07-15T07:25:34.101370Z"
    }
   },
   "source": [
    "#保存一幅小猫灰度图像\n",
    "####start code\n",
    "\n",
    "gray = cv2.cvtColor(img, cv2.COLOR_BGR2GRAY)\n",
    "\n",
    "cv2.imwrite(\"cat_gray.jpeg\", gray)\n",
    "\n",
    "####end code"
   ],
   "outputs": [
    {
     "data": {
      "text/plain": [
       "True"
      ]
     },
     "execution_count": 38,
     "metadata": {},
     "output_type": "execute_result"
    }
   ],
   "execution_count": 38
  },
  {
   "cell_type": "markdown",
   "metadata": {},
   "source": [
    "是不是很简单，再接再厉哦~~~"
   ]
  },
  {
   "cell_type": "markdown",
   "metadata": {},
   "source": [
    "### 3.像素点的基本操作\n",
    "#### 这一小节学习获取和修改像素点的值："
   ]
  },
  {
   "cell_type": "markdown",
   "metadata": {},
   "source": [
    "通过***行列***的坐标来获取某像素点的值，对于彩色图，结果是B,G,R三个值的列表，对于灰度图或单通道图，只有一个值  "
   ]
  },
  {
   "cell_type": "code",
   "metadata": {
    "ExecuteTime": {
     "end_time": "2024-07-15T07:25:34.113889Z",
     "start_time": "2024-07-15T07:25:34.111088Z"
    }
   },
   "source": [
    "#获取（208，400）点的像素值\n",
    "print(gray[400,208])\n",
    "# 打印（208，400）点蓝色通道的值\n",
    "####start code\n",
    "print(img[400,208,0])\n",
    "\n",
    "####end code"
   ],
   "outputs": [
    {
     "name": "stdout",
     "output_type": "stream",
     "text": [
      "163\n",
      "142\n"
     ]
    }
   ],
   "execution_count": 39
  },
  {
   "cell_type": "code",
   "metadata": {
    "ExecuteTime": {
     "end_time": "2024-07-15T07:25:34.116953Z",
     "start_time": "2024-07-15T07:25:34.114933Z"
    }
   },
   "source": [
    "#将(208,400)点的像素值修改为B,G,R三通道都是255\n",
    "####start code\n",
    "img[400,208] = [255,255,255]\n",
    "####end code"
   ],
   "outputs": [],
   "execution_count": 40
  },
  {
   "cell_type": "markdown",
   "metadata": {},
   "source": [
    "注意：行对应y，列对应x，其实是通过**img[y, x]**来访问像素点的值哦~~~\n",
    "修改像素的值也是同样的方式：  "
   ]
  },
  {
   "cell_type": "markdown",
   "metadata": {},
   "source": [
    "### 想一想：如何生成一个300x480 纯蓝的图？\n",
    "*提示：用np.zeros([height,width,chanel],dtype='uint8')来初始化一个图像矩阵*"
   ]
  },
  {
   "cell_type": "code",
   "metadata": {
    "ExecuteTime": {
     "end_time": "2024-07-15T07:25:36.484141Z",
     "start_time": "2024-07-15T07:25:34.120323Z"
    }
   },
   "source": [
    "import numpy as np\n",
    "z = np.zeros([480,300,3],dtype='uint8')\n",
    "#### start code\n",
    "z[:,:,0]= 0\n",
    "z[:,:,1] = 255\n",
    "z[:,:,2] = 255\n",
    "cv2.imshow(\"black\",z)\n",
    "#### end code\n",
    "cv2.waitKey(0) \n",
    "cv2.destroyAllWindows()"
   ],
   "outputs": [],
   "execution_count": 41
  },
  {
   "cell_type": "markdown",
   "metadata": {},
   "source": [
    "#### ROI\n",
    "ROI：**Region of Interest**，感兴趣区域。比如我们要检测眼睛，眼睛肯定在脸上，所以我们可以先把脸部区域（ROI）截取出来，这样就可以大大节省计算量，提高运行速度。\n",
    "\n",
    "截取ROI就是对图像矩阵进行切片操作。"
   ]
  },
  {
   "cell_type": "code",
   "metadata": {
    "ExecuteTime": {
     "end_time": "2024-07-15T07:25:36.935989Z",
     "start_time": "2024-07-15T07:25:36.486067Z"
    }
   },
   "source": [
    "img = cv2.imread(\"cats.jpeg\")\n",
    "observerArea = img[167:647,425:618]\n",
    "cv2.imshow(\"Observer\",observerArea)\n",
    "cv2.waitKey(0)                            \n",
    "cv2.destroyAllWindows()"
   ],
   "outputs": [],
   "execution_count": 42
  },
  {
   "cell_type": "markdown",
   "metadata": {},
   "source": [
    "> **思考** 如何将cat.jpeg的右下角水印去掉，而且尽量没有违和感"
   ]
  },
  {
   "cell_type": "code",
   "metadata": {
    "ExecuteTime": {
     "end_time": "2024-07-15T07:25:37.601396Z",
     "start_time": "2024-07-15T07:25:36.937616Z"
    }
   },
   "source": [
    "import cv2\n",
    "\n",
    "img = cv2.imread('cats.jpeg')\n",
    "cv2.imshow('src',img)\n",
    "####start code\n",
    "img[745:768,822:1024]=[255,249,250]\n",
    "####end code\n",
    "cv2.imshow('dst',img)\n",
    "cv2.waitKey(0)\n",
    "cv2.destroyAllWindows()"
   ],
   "outputs": [],
   "execution_count": 43
  },
  {
   "cell_type": "markdown",
   "metadata": {},
   "source": [
    "### 4. 绘图功能\n",
    "当我们找到图像中的一些特征（轮廓、边缘等），可以通过画线、圆和矩形等几何形状标记出来，也可以给图片添加文字。\n",
    "绘制形状的函数有一些共同的参数，提前说明一下：\n",
    "- img：要绘制形状的图片\n",
    "- color：绘制的颜色：彩色图就传入BGR的一组值，如蓝色就是(255,0,0)，灰度图，传入一个灰度值就行\n",
    "- thickness：线宽，默认为1；对于矩形/圆之类的封闭形状而言，传入-1表示填充形状\n",
    "#### 小tips：所有绘图函数均会直接影响原图片，如果不想影响原图，可以用img.copy()生成一份拷贝再画。"
   ]
  },
  {
   "cell_type": "markdown",
   "metadata": {},
   "source": [
    "#### 画线\n",
    "指定起点和终点的坐标："
   ]
  },
  {
   "cell_type": "code",
   "metadata": {
    "ExecuteTime": {
     "end_time": "2024-07-15T07:25:37.977706Z",
     "start_time": "2024-07-15T07:25:37.603066Z"
    }
   },
   "source": [
    "import cv2\n",
    "import numpy as np\n",
    "\n",
    "# 创建一副黑色的图像\n",
    "# 画一条线宽为5的蓝色直线，参数2：起点自定义，参数3：终点自定义\n",
    "####start code\n",
    "img = np.zeros((512, 512,3), np.uint8)\n",
    "img_line = img.copy()\n",
    "cv2.line(img_line,(0,0),(512,512),(0,0,255),5)\n",
    "cv2.line(img_line,(512,0),(0,512),(255,0,0),5)\n",
    "\n",
    "####end code\n",
    "cv2.imshow('img',img_line)\n",
    "cv2.waitKey(0)                            \n",
    "cv2.destroyAllWindows()"
   ],
   "outputs": [],
   "execution_count": 44
  },
  {
   "cell_type": "markdown",
   "metadata": {},
   "source": [
    "#### 画矩形\n",
    "指定左上角和右下角的坐标："
   ]
  },
  {
   "cell_type": "code",
   "metadata": {
    "ExecuteTime": {
     "end_time": "2024-07-15T07:25:38.407603Z",
     "start_time": "2024-07-15T07:25:37.979189Z"
    }
   },
   "source": [
    "# 画一个绿色边框的矩形，参数2：左上角坐标，参数3：右下角坐标\n",
    "####start code\n",
    "cv2.rectangle(img_line,(25,25),(175,175),(255,0,0),-1)\n",
    "\n",
    "####end code\n",
    "cv2.imshow('img',img_line)\n",
    "cv2.waitKey(0)                            \n",
    "cv2.destroyAllWindows()"
   ],
   "outputs": [],
   "execution_count": 45
  },
  {
   "cell_type": "markdown",
   "metadata": {},
   "source": [
    "#### 画圆\n",
    "画圆需要指定圆心和半径，注意下面的例子中线宽=-1代表填充"
   ]
  },
  {
   "cell_type": "code",
   "metadata": {
    "ExecuteTime": {
     "end_time": "2024-07-15T07:25:38.826278Z",
     "start_time": "2024-07-15T07:25:38.409425Z"
    }
   },
   "source": [
    "# 画一个填充红色的圆，参数2：圆心坐标，参数3：半径\n",
    "####start code\n",
    "cv2.circle(img,(200,200),50,(255,255,0),-1)\n",
    "\n",
    "####end code\n",
    "cv2.imshow('img',img)\n",
    "cv2.waitKey(0)                            \n",
    "cv2.destroyAllWindows()"
   ],
   "outputs": [],
   "execution_count": 46
  },
  {
   "cell_type": "code",
   "metadata": {
    "ExecuteTime": {
     "end_time": "2024-07-15T07:25:39.173247Z",
     "start_time": "2024-07-15T07:25:38.827988Z"
    }
   },
   "source": [
    "import numpy as np\n",
    "import cv2\n",
    "img = np.zeros((512, 512, 3), np.uint8)\n",
    "img_flower = img.copy()\n",
    "cv2.circle(img_flower,(200,200),50,(255,255,0),-1)\n",
    "cv2.circle(img_flower,(250,250),50,(255,255,0),-1)\n",
    "cv2.circle(img_flower,(200,300),50,(255,255,0),-1)\n",
    "cv2.circle(img_flower,(150,250),50,(255,255,0),-1)\n",
    "#cv2.circle(img_flower,(150,250),50,(255,255,0),3)\n",
    "cv2.circle(img_flower,(200,250),20,(0,255,255),-1)\n",
    "cv2.imshow('img',img_flower)\n",
    "cv2.waitKey(0)                            \n",
    "cv2.destroyAllWindows()"
   ],
   "outputs": [],
   "execution_count": 47
  },
  {
   "cell_type": "markdown",
   "metadata": {},
   "source": [
    "#### 添加文字\n",
    "使用cv2.putText()添加文字，它的参数也比较多：\n",
    "参数2：要添加的文本\n",
    "参数3：文字的起始坐标（左下角为起点）\n",
    "参数4：字体\n",
    "参数5：文字大小（缩放比例）"
   ]
  },
  {
   "cell_type": "code",
   "metadata": {
    "ExecuteTime": {
     "end_time": "2024-07-15T07:25:39.619069Z",
     "start_time": "2024-07-15T07:25:39.174770Z"
    }
   },
   "source": [
    "# 添加文字'Intel AI Camp',位置自定义，字体为cv2.FONT_HERSHEY_SIMPLEX，大小为4，颜色自定义，线宽为2\n",
    "####start code\n",
    "font = cv2.FONT_HERSHEY_SIMPLEX\n",
    "\n",
    "cv2.putText(img, 'AI for innovation Camp', (10, 500), font,\n",
    "           1, (255, 255, 255), 2, lineType=cv2.LINE_AA)\n",
    "\n",
    "####end code\n",
    "cv2.imshow('img',img)\n",
    "cv2.waitKey(0)                            \n",
    "cv2.destroyAllWindows()"
   ],
   "outputs": [],
   "execution_count": 48
  },
  {
   "cell_type": "markdown",
   "metadata": {},
   "source": [
    "### 5.视频操作\n",
    "使用摄像头，需要使用**cv2.VideoCapture(0)**创建VideoCapture对象，参数0指的是摄像头的编号，\n",
    "如果你电脑上有两个摄像头的话，访问第2个摄像头就可以传入1，依此类推。\n",
    "操作流程：**先占用，再读取，最后释放**\n"
   ]
  },
  {
   "cell_type": "markdown",
   "metadata": {},
   "source": [
    "camera.read()函数返回的第1个参数ret是一个布尔值，表示当前这一帧是否获取正确。第二个参数返回当前帧的数字矩阵。"
   ]
  },
  {
   "cell_type": "code",
   "metadata": {
    "ExecuteTime": {
     "end_time": "2024-07-15T07:25:41.201944Z",
     "start_time": "2024-07-15T07:25:39.619662Z"
    }
   },
   "source": [
    "import cv2\n",
    "\n",
    "###占用 0号camera\n",
    "camera = cv2.VideoCapture(0)\n",
    "while(camera.isOpened()):\n",
    "####start code\n",
    "         result, frame =   camera.read()                     # 读取摄像头采集的图像   \n",
    "         if result:\n",
    "             cv2.imshow(\"camera\",frame)             # 显示该图像\n",
    "    \n",
    "             if cv2.waitKey(20)  == ord(' '):       # 每帧图像显示20ms，等待用户按下空格键退出\n",
    "                break\n",
    "\n",
    "#end code\n",
    "camera.release()                           # 释放摄像头对象\n",
    "cv2.destroyAllWindows()"
   ],
   "outputs": [],
   "execution_count": 49
  },
  {
   "cell_type": "markdown",
   "metadata": {},
   "source": [
    "#### 播放本地视频，跟打开摄像头一样，如果把摄像头的编号换成视频的路径就可以播放本地视频了。\n",
    "#### 想一下cv2.waitKey()，它的参数表示暂停时间，所以这个值越大，视频播放速度越慢，反之，播放速度越快，通常设置为25或30。\n"
   ]
  },
  {
   "cell_type": "code",
   "metadata": {
    "ExecuteTime": {
     "end_time": "2024-07-15T07:25:42.830516Z",
     "start_time": "2024-07-15T07:25:41.202831Z"
    }
   },
   "source": [
    "# 播放本地视频\n",
    "###读取'orange.mp4'视频文件\n",
    "capture = cv2.VideoCapture('orange.mp4')\n",
    "while(capture.isOpened()):\n",
    "####start code\n",
    "    result, frame =   capture.read()                     # 读取摄像头采集的图像   \n",
    "    if result:\n",
    "        cv2.imshow(\"camera\",frame)             # 显示该图像\n",
    "    \n",
    "        if cv2.waitKey(20)  == ord(' '):       # 每帧图像显示20ms，等待用户按下空格键退出\n",
    "            break\n",
    "                              \n",
    "####end code          \n",
    "capture.release()\n",
    "cv2.destroyAllWindows()       "
   ],
   "outputs": [],
   "execution_count": 50
  },
  {
   "cell_type": "markdown",
   "metadata": {},
   "source": [
    "### 7 颜色提取\n",
    "**inRange**函数，参数有三个\n",
    "\n",
    "第一个参数：img指的是原图\n",
    "\n",
    "第二个参数：lower_red指的是图像中低于这个lower_red的值，图像值变为0\n",
    "\n",
    "第三个参数：upper_red指的是图像中高于这个upper_red的值，图像值变为0\n",
    "\n",
    "而在lower_red～upper_red之间的值变成255\n",
    "\n",
    "mask是一个二值化的东西，也就是非黑即白\n"
   ]
  },
  {
   "cell_type": "code",
   "metadata": {
    "ExecuteTime": {
     "end_time": "2024-07-15T07:25:43.328398Z",
     "start_time": "2024-07-15T07:25:42.831342Z"
    }
   },
   "source": [
    "import cv2\n",
    "import numpy as np\n",
    "img = cv2.imread('opencvlogo.jpg')\n",
    "\n",
    "####start code\n",
    "lower_red = np.array ([0,200,0])                                   #设定红色logo的下限\n",
    "upper_red = np.array([25,255,25])                                  #设定红色logo的上限\n",
    "mask_logo = cv2.inRange(img,lower_red,upper_red)                   #取落在该范围内的所有点作为遮罩\n",
    "                                                             \n",
    "####end code \n",
    "cv2.imshow(\"mask\",mask_logo)\n",
    "cv2.waitKey(0)\n",
    "cv2.destroyAllWindows()"
   ],
   "outputs": [],
   "execution_count": 51
  },
  {
   "cell_type": "markdown",
   "metadata": {},
   "source": [
    "可以采用inRange函数将原图进行二值化，也可以采用threshhold函数，通过设定阈值，获得二值化图像作为mask。"
   ]
  },
  {
   "cell_type": "markdown",
   "metadata": {},
   "source": [
    "### 8 图像的按位操作\n",
    "按位操作包括按位与/或/非/异或操作，可以实现图像的混合与局部遮挡等效果。\n",
    "\n",
    "![jupyter](./bitwiseand.png)"
   ]
  },
  {
   "cell_type": "markdown",
   "metadata": {},
   "source": [
    "掩膜(Mask)是用一副二值化图片对另外一幅图片进行局部的遮挡，“与”操作，即掩膜图像白色区域是对需要处理图像像素的保留，黑色区域是对需要处理图像像素的剔除.函数原型： \n",
    "\n",
    "bitwise_and(src1, src2, mask=None) \n",
    "\n",
    "参数说明： \n",
    "src1、src2：为输入图像, mask：图像掩膜,为8位单通道的灰度图像，输出图像像素只有mask对应位置元素不为0的部分才输出，否则该位置像素的所有通道分量都设置为0.返回值为图像矩阵。"
   ]
  },
  {
   "cell_type": "markdown",
   "metadata": {},
   "source": [
    "#### 挑战练习1：提取orange.mp4视频中的橙色小球\n",
    "- 读入视频中的每帧图像\n",
    "- 设置颜色的上下区间，获取橙色的遮罩\n",
    "- 与原图像进行按位与操作\n",
    "- 显示按位与后的图像\n"
   ]
  },
  {
   "cell_type": "code",
   "metadata": {
    "ExecuteTime": {
     "end_time": "2024-07-15T07:25:43.841919Z",
     "start_time": "2024-07-15T07:25:43.329701Z"
    }
   },
   "source": [
    "import cv2   \n",
    "import numpy as np\n",
    "\n",
    "cap = cv2.VideoCapture('orange.mp4')\n",
    "\n",
    "#参考范围：lower_orange = np.array([0,150,170])    \n",
    "#参考范围：upper_orange = np.array([8,180,200])\n",
    "\n",
    "lower_orange = np.array([50,50,160])                         #设定橙色小球的下限\n",
    "upper_orange = np.array([90,90,200])                         #设定橙色小球的上限\n",
    "\n",
    "while(cap.isOpened()):\n",
    "    ret, img = cap.read()\n",
    "    if ret:\n",
    "      \n",
    "        mask = cv2.inRange(img,lower_orange,upper_orange)                       #取落在该范围内的所有点作为遮罩\n",
    "        res = cv2.bitwise_and(img,img,mask=mask)                        #用按位与运算取出橙色小球区域\n",
    "        cv2.imshow('frame',img)\n",
    "        cv2.imshow('mask',mask)\n",
    "        cv2.imwrite(\"mask.jpeg\",mask)  \n",
    "        cv2.imshow('res',res)\n",
    "      \n",
    "        if cv2.waitKey(10) & 0xFF == ord(' '):\n",
    "            break\n",
    "    else:\n",
    "        break\n",
    "\n",
    "cap.release()\n",
    "cv2.destroyAllWindows()     "
   ],
   "outputs": [],
   "execution_count": 52
  },
  {
   "cell_type": "code",
   "metadata": {
    "ExecuteTime": {
     "end_time": "2024-07-15T07:25:44.322839Z",
     "start_time": "2024-07-15T07:25:43.842627Z"
    }
   },
   "source": [
    "import cv2   \n",
    "import numpy as np\n",
    "\n",
    "\n",
    "lower_orange = np.array([0,0,100])                         #设定橙色小球的下限\n",
    "upper_orange = np.array([100,100,250])                         #设定橙色小球的上限\n",
    "\n",
    "\n",
    "img = cv2.imread('ladybug.jpg')\n",
    "cv2.imshow('res',img)\n",
    "\n",
    "mask = cv2.inRange(img,lower_orange,upper_orange)                       #取落在该范围内的所有点作为遮罩\n",
    "res = cv2.bitwise_and(img,img,mask=mask)                        #用按位与运算取出橙色小球区域\n",
    "cv2.imshow('frame',img)\n",
    "cv2.imshow('mask',mask)\n",
    "cv2.imwrite(\"mask.jpeg\",mask)  \n",
    "cv2.imshow('res',res)\n",
    "\n",
    "cv2.waitKey(0)\n",
    "\n",
    "\n",
    "cv2.destroyAllWindows()     "
   ],
   "outputs": [],
   "execution_count": 53
  },
  {
   "cell_type": "markdown",
   "metadata": {},
   "source": [
    "鼠标交互："
   ]
  },
  {
   "cell_type": "code",
   "metadata": {
    "ExecuteTime": {
     "end_time": "2024-07-15T07:25:44.771838Z",
     "start_time": "2024-07-15T07:25:44.324556Z"
    }
   },
   "source": [
    "img = cv2.imread('greenlight.jpg')\n",
    "cv2.namedWindow('hehe')\n",
    "\n",
    "hsv = cv2.cvtColor(img, cv2.COLOR_BGR2HSV)\n",
    "\n",
    "def onMouse(event,x,y,flags,param):\n",
    "    if event == cv2.EVENT_LBUTTONDOWN:\n",
    "        print(x,y)\n",
    "        hsv_value = hsv[y, x]\n",
    "        print(hsv_value)\n",
    "    if flags == cv2.EVENT_FLAG_LBUTTON and event == cv2.EVENT_MOUSEMOVE:\n",
    "        cv2.circle(img,(x,y),3,(0,0,255),-1)\n",
    "        \n",
    "cv2.setMouseCallback('hehe',onMouse)\n",
    "\n",
    "while True:\n",
    "    cv2.imshow('hehe',img)\n",
    "    if cv2.waitKey(10) == ord(' '):\n",
    "        break\n",
    "cv2.destroyAllWindows()"
   ],
   "outputs": [],
   "execution_count": 54
  },
  {
   "cell_type": "markdown",
   "metadata": {},
   "source": [
    "### 9 边缘检测与卷积运算\n",
    "边缘检测是图像处理和计算机视觉中，尤其是特征提取的一个重要研究领域。边缘检测的目的是标识数字图像中亮度变化较为明显的点，这些点通常存在于目标、背景区域之间，是图像分割的重要依据。\n",
    "边缘检测常用的算法有: Sobel算法、拉普拉斯算法、Canny算法等。\n",
    "\n",
    "#### Sobel 算子\n",
    "\n",
    "Sobel算子通过像素点空间邻域内上下、左右相邻点的灰度加权运算来模拟一阶求导,导数越大的地方说明变化越剧烈,越有可能是边缘。\n",
    "\n",
    "Sobel 边缘检测通常带有方向性，可以只检测水平边缘或垂直边缘或都检测。\n",
    "经典Sobel的卷积因子为(横向卷积因子、纵向卷积因子)：\n",
    "\n",
    "![jupyter](./sobel.png)\n",
    "\n",
    "用卷积的方法，通过设置不同的卷积核，对图像进行边缘检测。"
   ]
  },
  {
   "cell_type": "code",
   "metadata": {
    "ExecuteTime": {
     "end_time": "2024-07-15T08:06:40.280386Z",
     "start_time": "2024-07-15T08:06:39.741179Z"
    }
   },
   "source": [
    "img = cv2.imread(\"cats.jpeg\",0)\n",
    "convolutionCore = np.array((\n",
    "                            [-1,0,1],\n",
    "                            [-2,0,2],\n",
    "                            [-1,0,1]))#拉普拉斯拓展卷积核\n",
    "\n",
    " \n",
    "res = cv2.filter2D(img,-1,convolutionCore)                      #使用opencv的卷积函数\n",
    "cv2.imshow('frame',res)\n",
    "\n",
    "cv2.waitKey(0)                           \n",
    "cv2.destroyAllWindows()"
   ],
   "outputs": [],
   "execution_count": 3
  },
  {
   "cell_type": "markdown",
   "metadata": {},
   "source": [
    "### 10 轮廓\n",
    "轮廓是一系列相连的点组成的曲线，代表了物体的基本外形。\n",
    "谈起轮廓不免想到边缘，它们确实很像。简单的说，轮廓是连续的，边缘并不全都连续（下图）。边缘主要是作为图像的特征使用，而轮廓主要用来分析物体的形态，比如物体的周长和面积等，可以说边缘包括轮廓。寻找轮廓的操作一般用于黑白图，所以通常会使用阈值分割或Canny边缘检测先得到二值图。\n",
    "\n",
    "![jupyter](./contour.png)\n",
    "\n",
    "画出mask.jpg 中最外轮廓，及其外接矩形。\n",
    "\n",
    "![jupyter](./mask.png)\n"
   ]
  },
  {
   "cell_type": "code",
   "metadata": {
    "ExecuteTime": {
     "end_time": "2024-07-15T08:10:06.072572Z",
     "start_time": "2024-07-15T08:10:04.857927Z"
    }
   },
   "source": [
    "import cv2\n",
    "img = cv2.imread(\"mask.png\")\n",
    "img_gray = cv2.cvtColor(img,cv2.COLOR_BGR2GRAY)          #注意先转为灰度图才能进行阈值处理\n",
    "ret,thresh = cv2.threshold(img_gray,240,255,cv2.THRESH_BINARY)\n",
    "#阈值处理成二值图像\n",
    "\n",
    "contours, hierarchy = cv2.findContours(\n",
    "    thresh,\n",
    "    cv2.RETR_EXTERNAL,\n",
    "    cv2.CHAIN_APPROX_SIMPLE)\n",
    "\n",
    "cv2.drawContours(img, contours,-1, (0,0,255), 3)                  #img是彩色图像，-1 代表画出全部轮廓\n",
    "\n",
    "x,y,w,h = cv2.boundingRect(contours[0])\n",
    "img=cv2.rectangle(img,(x,y),(x+w,y+h),(0,255,255),2) \n",
    "\n",
    "cv2.imshow('frame',img)\n",
    "cv2.waitKey(0)                           \n",
    "cv2.destroyAllWindows()\n"
   ],
   "outputs": [],
   "execution_count": 1
  },
  {
   "cell_type": "markdown",
   "metadata": {},
   "source": [
    "#### 轮廓面积特征\n",
    "通过轮廓点可以计算物体的周长、面积、质心、外接矩形、最小外接矩形等。"
   ]
  },
  {
   "cell_type": "code",
   "metadata": {
    "ExecuteTime": {
     "end_time": "2024-07-15T07:25:45.702730Z",
     "start_time": "2024-07-15T07:25:45.698899Z"
    }
   },
   "source": [
    "area = cv2.contourArea(contours[0]) #计算0号轮廓围起来的面积\n",
    "print(area)"
   ],
   "outputs": [
    {
     "name": "stdout",
     "output_type": "stream",
     "text": [
      "3630.5\n"
     ]
    }
   ],
   "execution_count": 57
  },
  {
   "cell_type": "markdown",
   "metadata": {},
   "source": [
    ">**思考** 定位orange.mp4视频中的橙色小球中心位置\n",
    "- 读入视频中的每帧图像\n",
    "- 设置颜色的上下区间，获取橙色的遮罩\n",
    "- 获得遮罩的外层轮廓\n",
    "- 根据轮廓计算面积，找到最大面积的轮廓\n",
    "- 找出最大轮廓的外接矩形，并画出中心点"
   ]
  },
  {
   "cell_type": "code",
   "metadata": {
    "ExecuteTime": {
     "end_time": "2024-07-15T08:40:45.073842Z",
     "start_time": "2024-07-15T08:40:40.790440Z"
    }
   },
   "source": [
    "### 橙色小球跟踪实验\n",
    "import cv2   \n",
    "import numpy as np\n",
    "\n",
    "cap = cv2.VideoCapture('orange.mp4')\n",
    "\n",
    "lower_orange =  np.array([30,30,150])                                             ###请自己设定阈值\n",
    "upper_orange =   np.array([80,80,220])                                                    ###请自己设定阈值\n",
    "\n",
    "while(cap.isOpened()):\n",
    "    ret, img = cap.read()\n",
    "    if ret:\n",
    "\n",
    "        area = []                                                    ##初始化面积列表\n",
    "        ###start code\n",
    "        mask =  cv2.inRange(img,lower_orange,upper_orange)                                                    ###请通过inRange 函数获得球的mask\n",
    "        ###end code\n",
    "        \n",
    "        contours, hierarchy = cv2.findContours(mask,\n",
    "        cv2.RETR_EXTERNAL,\n",
    "        cv2.CHAIN_APPROX_SIMPLE)                                     ###通过findContours函数 找到该mask的最外层轮廓\n",
    "\n",
    "        cv2.drawContours(img, contours,-1, (0,0,255), 3)             ###通过drawContours函数画出找到的轮廓\n",
    "        \n",
    "        for c in range(len(contours)):\n",
    "            area.append(cv2.contourArea(contours[c]))                ####在括号中填入每个轮廓的面积\n",
    "        if area:\n",
    "            max_idx = np.argmax(np.array(area))\n",
    "            cnt = contours[max_idx]                                  ####取出面积最大的轮廓 赋值给cnt\n",
    "            \n",
    "            x,y,w,h = cv2.boundingRect(cnt)                          ####用boundingRect 函数计算出该轮廓的外接矩形\n",
    "            ##start code\n",
    "            cv2.rectangle(img,(x,y),(x+w,y+h),(0,0,255),3)   \n",
    "            cv2.line(img,(int(x+w/2-10),int(y+h/2)),(int(x+w/2+10),int(y+h/2)),(255,0,0),3)\n",
    "            cv2.line(img,(int(x+w/2),int(y+h/2-10)),(int(x+w/2),int(y+h/2+10)),(255,0,0),3)\n",
    "            #### 画出该矩形\n",
    "            ###end code\n",
    "            cv2.imshow('frame',img)\n",
    "       \n",
    "        if cv2.waitKey(10) & 0xFF == ord(' '):\n",
    "            break\n",
    "    else:\n",
    "        break\n",
    "\n",
    "cap.release()\n",
    "cv2.destroyAllWindows()     \n",
    "#### end code"
   ],
   "outputs": [],
   "execution_count": 1
  },
  {
   "cell_type": "markdown",
   "metadata": {},
   "source": [
    "### 挑战任务:红绿灯识别\n",
    "有了ROI截取、二值化、颜色区间提取、轮廓检测、掩膜、绘图等基础，我们就可以做一些很cool的识别任务啦！\n",
    "有三张小车拍摄的红绿灯图像，你能从图像中识别出当前是红灯亮、绿灯亮、还是黄灯亮吗？"
   ]
  },
  {
   "cell_type": "code",
   "metadata": {
    "ExecuteTime": {
     "end_time": "2024-07-15T07:25:47.758018Z",
     "start_time": "2024-07-15T07:25:46.218107Z"
    }
   },
   "source": [
    "import cv2\n",
    "import numpy as np\n",
    "\n",
    "# img_all = cv2.imread(\"yellowlight.jpg\")\n",
    "img_all = cv2.imread(\"greenlight.jpg\")\n",
    "#img_all = cv2.imread(\"greenlight.jpg\")\n",
    "\n",
    "im_part = img_all[50:212, 708:1083]\n",
    "\n",
    "im_part = cv2.cvtColor(im_part, cv2.COLOR_BGR2HSV)\n",
    "\n",
    "cv2.imshow(\"origin\",im_part)                  \n",
    "cv2.waitKey(0)          \n",
    "\n",
    "#yellow template\n",
    "yellow_lower_orange =  None\n",
    "yellow_upper_orange =  None\n",
    "\n",
    "#green template \n",
    "green_lower_orange = np.array([60, 160, 160])\n",
    "green_upper_orange = np.array([70, 255, 255])\n",
    "\n",
    "#red template \n",
    "red_lower_orange =  None\n",
    "red_upper_orange =  None\n",
    "\n",
    "green_mask = cv2.inRange(im_part, green_lower_orange, green_upper_orange)\n",
    "cv2.imshow(\"green_mask\",green_mask)  \n",
    "\n",
    "cv2.waitKey(0)     \n",
    "\n",
    "green_contours, hierarchy = cv2.findContours(\n",
    "    green_mask,\n",
    "    cv2.RETR_TREE,\n",
    "    cv2.CHAIN_APPROX_SIMPLE)\n",
    "\n",
    "green_area = []\n",
    "\n",
    "### 请找出最大面积轮廓的id号\n",
    "\n",
    "for c in range(len(green_contours)):\n",
    "    green_area.append(cv2.contourArea(green_contours[c]))\n",
    "if green_area:\n",
    "    green_max_idx = np.argmax(np.array(green_area))\n",
    "\n",
    "if green_area:\n",
    "    #####请用boundingRect 函数计算出该轮廓的外接矩形\n",
    "    #### 请用绿色画出该矩形\n",
    "    ###start code\n",
    "    green_cnt = green_contours[green_max_idx]\n",
    "    x,y,w,h = cv2.boundingRect(green_cnt)\n",
    "    im_part=cv2.rectangle(im_part,(x,y),(x+w,y+h),(0,255,255),2)\n",
    "    im_part=cv2.line(im_part,(int(x+w/2),int(y+h/2-2)),(int(x+w/2),int(y+h/2+2)),(255,0,0),2)\n",
    "    im_part=cv2.line(im_part,(int(x+w/2-2),int(y+h/2)),(int(x+w/2+2),int(y+h/2)),(255,0,0),2)\n",
    "    \n",
    "    ###end code    \n",
    "    print(\"only green light on!\")\n",
    "else:\n",
    "    print(\"no light on!\")\n",
    "\n",
    "                                            ###将处理好的部分图像赋值给原图\n",
    "cv2.imshow(\"contour\",img_all) \n",
    "cv2.waitKey(0)                            \n",
    "cv2.destroyAllWindows()"
   ],
   "outputs": [
    {
     "name": "stdout",
     "output_type": "stream",
     "text": [
      "only green light on!\n"
     ]
    }
   ],
   "execution_count": 59
  },
  {
   "cell_type": "markdown",
   "metadata": {},
   "source": [
    "### Bonus ！！补充内容：12 OpenCV 中的机器学习模型\n",
    "OpenCV中有很多机器学习模块，比如人脸检测、SVM分类器。以人脸检测为例：OpenCV 提供了两种人脸检测方法，包括：\n",
    "- 基于 Haar 级联的人脸检测器\n",
    "- 基于深度学习的人脸检测器\n",
    "基于 Haar 级联的人脸检测器,OpenCV 提供了 4 个级联分类器用于人脸检测，可以从OpenCV 官方下载这些级联分类器文件：\n",
    "- haarcascade_frontalface_alt.xml \n",
    "- haarcascade_frontalface_alt2.xml \n",
    "- haarcascade_frontalface_alt_tree.xml \n",
    "- haarcascade_frontalface_default.xml \n",
    "总的来说这些分类器具有相似的准确率.\n",
    "\n",
    "OpenCV 提供了 cv2.CascadeClassifier() 函数用于从文件中加载分类器："
   ]
  },
  {
   "cell_type": "code",
   "metadata": {
    "ExecuteTime": {
     "end_time": "2024-07-15T07:25:47.778967Z",
     "start_time": "2024-07-15T07:25:47.758929Z"
    }
   },
   "source": [
    "faceCascade = cv2.CascadeClassifier('haarcascade_frontalface_default.xml')"
   ],
   "outputs": [],
   "execution_count": 60
  },
  {
   "cell_type": "markdown",
   "metadata": {},
   "source": [
    "接下来，就可以使用 cv2.CascadeClassifier.detectMultiScale() 函数执行检测了："
   ]
  },
  {
   "cell_type": "code",
   "metadata": {
    "ExecuteTime": {
     "end_time": "2024-07-15T07:25:47.829993Z",
     "start_time": "2024-07-15T07:25:47.779726Z"
    }
   },
   "source": [
    "faces_rects = faceCascade.detectMultiScale(img,scaleFactor = 1.05,minNeighbors = 5,minSize = (30,30),flags = cv2.CASCADE_SCALE_IMAGE)"
   ],
   "outputs": [],
   "execution_count": 61
  },
  {
   "cell_type": "markdown",
   "metadata": {},
   "source": [
    "cv2.CascadeClassifier.detectMultiScale() 函数检测对象并将它们作为矩形列表返回。下面是完整的视频流人脸检测代码："
   ]
  },
  {
   "cell_type": "code",
   "metadata": {
    "scrolled": true,
    "ExecuteTime": {
     "end_time": "2024-07-15T07:25:49.489336Z",
     "start_time": "2024-07-15T07:25:47.830679Z"
    }
   },
   "source": [
    "import cv2\n",
    "import numpy as np\n",
    "cap = cv2.VideoCapture(0)\n",
    "\n",
    "while(cap.isOpened()):\n",
    "    ret, img = cap.read()\n",
    "    print(ret)\n",
    "    if ret:  \n",
    "        gray = cv2.cvtColor(img,cv2.COLOR_BGR2GRAY)\n",
    "        faceCascade = cv2.CascadeClassifier('haarcascade_frontalface_default.xml')\n",
    "        faces_rects = faceCascade.detectMultiScale(img,scaleFactor = 1.05,minNeighbors = 5,minSize = (30,30),flags = cv2.CASCADE_SCALE_IMAGE)\n",
    "        \n",
    "        for (x,y,w,h) in faces_rects:\n",
    "            img = cv2.rectangle(img,(x,y),(x+w,y+h),(255,0,0),2)\n",
    "           \n",
    "            cv2.imshow('Press Spacebar to Exit',img) \n",
    "\n",
    "        if cv2.waitKey(10) & 0xFF == ord(' '):  # 按下空格键退出\n",
    "            break\n",
    "    else:\n",
    "        break\n",
    "\n",
    "cap.release()                          \n",
    "cv2.destroyAllWindows()"
   ],
   "outputs": [
    {
     "name": "stdout",
     "output_type": "stream",
     "text": [
      "True\n",
      "True\n"
     ]
    }
   ],
   "execution_count": 62
  },
  {
   "cell_type": "markdown",
   "metadata": {},
   "source": [
    "OpenCV自带了人脸分类器、人眼检测器、姿态检测、表情识别等分类器。在目录anaconda3\\Lib\\site-packages\\cv2\\data下的xml文件中，用到的时候记得把他们copy到自己的folder下。\n",
    "OpenCV也预训练好了人眼检测模型，haarcascade_eye.xml.可通过 eyes = eye_cascade.detectMultiScale(img)得到眼睛区域。"
   ]
  }
 ],
 "metadata": {
  "kernelspec": {
   "display_name": "Python 3 (ipykernel)",
   "language": "python",
   "name": "python3"
  },
  "language_info": {
   "codemirror_mode": {
    "name": "ipython",
    "version": 3
   },
   "file_extension": ".py",
   "mimetype": "text/x-python",
   "name": "python",
   "nbconvert_exporter": "python",
   "pygments_lexer": "ipython3",
   "version": "3.11.9"
  }
 },
 "nbformat": 4,
 "nbformat_minor": 4
}
